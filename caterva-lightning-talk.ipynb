{
 "cells": [
  {
   "cell_type": "markdown",
   "id": "d4d7d7f6",
   "metadata": {
    "slideshow": {
     "slide_type": "slide"
    }
   },
   "source": [
    "# Caterva - A Compressed and Multidimensional Container For Medium/Big Data "
   ]
  },
  {
   "cell_type": "markdown",
   "id": "9e2db39c",
   "metadata": {},
   "source": [
    "<img src=\"static/caterva-logo.png\" width=15% style=\"margin-left:auto; margin-right:auto\">\n",
    "\n"
   ]
  },
  {
   "cell_type": "markdown",
   "id": "b08f3a10",
   "metadata": {},
   "source": [
    "Aleix Alcacer - The Blosc Development Team"
   ]
  },
  {
   "cell_type": "markdown",
   "id": "4d6ff73e",
   "metadata": {
    "slideshow": {
     "slide_type": "slide"
    }
   },
   "source": [
    "# What is Caterva?\n",
    "\n",
    "\n",
    "<img src=\"static/caterva.png\" width=20% style=\"margin-left:auto; margin-right:auto\">\n",
    "\n",
    "Caterva is an open source C and Python **library** and a **format** built on top of Blosc2 that implements a compressed, chunked and multidimensional array."
   ]
  },
  {
   "cell_type": "markdown",
   "id": "a518785d",
   "metadata": {
    "slideshow": {
     "slide_type": "slide"
    }
   },
   "source": [
    "# Why another chunked array?\n",
    "\n",
    "Although there are several formats that implement multidimensional and chunked arrays such as Zarr and HDF5 (among some others), Caterva is specially optimized for **efficient data slicing**.\n",
    "\n",
    "Thanks to the new features of Blosc2, Caterva can extract data from a compressed array at **very high speed**."
   ]
  },
  {
   "cell_type": "markdown",
   "id": "2ad369ff",
   "metadata": {
    "slideshow": {
     "slide_type": "slide"
    }
   },
   "source": [
    "# Main features\n",
    "\n",
    "* **Double multidimensional partitioning**: fast slicing.\n",
    "* **Metalayers**: add metadata to your arrays.\n",
    "* **Type-less**: flexibly define your own data types (i.e. as metalayers).\n",
    "* **Open source**: https://github.com/Blosc/python-caterva\n"
   ]
  },
  {
   "cell_type": "markdown",
   "id": "811d7c72",
   "metadata": {
    "slideshow": {
     "slide_type": "slide"
    }
   },
   "source": [
    "# How does Caterva achieve this performance?\n",
    "\n",
    "<br>\n",
    "<img src=\"static/zarr.png\" width=15% style=\"margin-left:auto; margin-right:auto\">\n",
    "\n",
    "\n",
    "Other chunking libraries store data into multidimensional **chunks**. This makes slices extraction from compressed data more efficient, since only the chunks containing the slices are decompressed. \n",
    "\n"
   ]
  },
  {
   "cell_type": "markdown",
   "id": "1fc7fdea",
   "metadata": {
    "slideshow": {
     "slide_type": "subslide"
    }
   },
   "source": [
    "<img src=\"static/cat.png\" width=15% style=\"margin-left:auto; margin-right:auto\">\n",
    "\n",
    "\n",
    "Caterva also introduces an additional level of partitioning. Within each chunk, the data is repartitioned into smaller multidimensional sets called **blocks**.\n",
    "\n",
    "In this way, Caterva can read blocks individually (and also in parallel) instead of whole chunks, which improves slices extraction by decompressing only those blocks containing the slice.\n",
    "\n",
    "\n"
   ]
  },
  {
   "cell_type": "markdown",
   "id": "46f917c4",
   "metadata": {
    "slideshow": {
     "slide_type": "slide"
    }
   },
   "source": [
    "# Performance comparison \n",
    "\n",
    "Now we will analyze the performance of extracting some hyperplanes from chunked arrays created with Caterva, Zarr and HDF5.\n",
    "\n",
    "For comparison purposes, all arrays have been compressed using the Blosc compressor."
   ]
  },
  {
   "cell_type": "markdown",
   "id": "64decf04",
   "metadata": {
    "slideshow": {
     "slide_type": "subslide"
    }
   },
   "source": [
    "The chunks have also been optimized to extract hyperslices from the second dimension.\n",
    "\n",
    "<table>\n",
    "    <tr>\n",
    "        <td>\n",
    "            <img src=\"static/dim0.png\" width=80% style=\"margin-left:0; margin-right:auto\">\n",
    "        </td>\n",
    "        <td>\n",
    "            <img src=\"static/dim1.png\" width=80% style=\"margin-left:auto; margin-right:0\">\n",
    "        </td>\n",
    "    </tr>\n",
    "    <tr>\n",
    "        <td style=\"text-align: center;\">\n",
    "            First dimension\n",
    "        </td>\n",
    "        <td style=\"text-align: center;\">\n",
    "            Second dimension\n",
    "        </td>\n",
    "    </tr>\n",
    "</table>\n",
    "\n",
    "Thanks to the second level of partitioning, Caterva will decompress less data than the other formats.\n"
   ]
  },
  {
   "cell_type": "markdown",
   "id": "48b5bbe0",
   "metadata": {
    "slideshow": {
     "slide_type": "subslide"
    }
   },
   "source": [
    "Time ellapsed extracting a set of hyperslices in each dimension:\n",
    "\n",
    "<img src=\"static/performance.png\" width=65% style=\"margin-left:auto; margin-right:auto\">"
   ]
  },
  {
   "cell_type": "markdown",
   "id": "a5b63c77",
   "metadata": {
    "slideshow": {
     "slide_type": "slide"
    }
   },
   "source": [
    "# Thank you very much!\n",
    "\n",
    "Takeaway: *If you are interested in increasing the performance of array slicing, give Caterva a try!*\n",
    "\n",
    "To learn more about Caterva, checkout our SciPy poster at https://blosc.github.io/caterva-scipy21/\n",
    "\n",
    "We are open to hear suggestions at:\n",
    "* Twitter: https://twitter.com/Blosc2\n",
    "* Github: https://github.com/Blosc/python-caterva\n"
   ]
  },
  {
   "cell_type": "code",
   "execution_count": null,
   "id": "a292a98a",
   "metadata": {
    "slideshow": {
     "slide_type": "skip"
    }
   },
   "outputs": [],
   "source": []
  }
 ],
 "metadata": {
  "celltoolbar": "Slideshow",
  "kernelspec": {
   "display_name": "Python 3 (ipykernel)",
   "language": "python",
   "name": "python3"
  },
  "language_info": {
   "codemirror_mode": {
    "name": "ipython",
    "version": 3
   },
   "file_extension": ".py",
   "mimetype": "text/x-python",
   "name": "python",
   "nbconvert_exporter": "python",
   "pygments_lexer": "ipython3",
   "version": "3.9.5"
  }
 },
 "nbformat": 4,
 "nbformat_minor": 5
}
